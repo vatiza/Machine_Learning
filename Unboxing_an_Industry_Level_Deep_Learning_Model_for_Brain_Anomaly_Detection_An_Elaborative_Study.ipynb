{
  "nbformat": 4,
  "nbformat_minor": 0,
  "metadata": {
    "colab": {
      "provenance": [],
      "authorship_tag": "ABX9TyO2C4AXRWwbYIJwoZ1wnOLg",
      "include_colab_link": true
    },
    "kernelspec": {
      "name": "python3",
      "display_name": "Python 3"
    },
    "language_info": {
      "name": "python"
    }
  },
  "cells": [
    {
      "cell_type": "markdown",
      "metadata": {
        "id": "view-in-github",
        "colab_type": "text"
      },
      "source": [
        "<a href=\"https://colab.research.google.com/github/vatiza/Machine_Learning/blob/main/Unboxing_an_Industry_Level_Deep_Learning_Model_for_Brain_Anomaly_Detection_An_Elaborative_Study.ipynb\" target=\"_parent\"><img src=\"https://colab.research.google.com/assets/colab-badge.svg\" alt=\"Open In Colab\"/></a>"
      ]
    },
    {
      "cell_type": "code",
      "execution_count": null,
      "metadata": {
        "id": "qbKSzoCOmgtz"
      },
      "outputs": [],
      "source": []
    }
  ]
}