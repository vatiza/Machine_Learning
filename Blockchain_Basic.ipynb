{
  "nbformat": 4,
  "nbformat_minor": 0,
  "metadata": {
    "colab": {
      "provenance": [],
      "include_colab_link": true
    },
    "kernelspec": {
      "name": "python3",
      "display_name": "Python 3"
    },
    "language_info": {
      "name": "python"
    }
  },
  "cells": [
    {
      "cell_type": "markdown",
      "metadata": {
        "id": "view-in-github",
        "colab_type": "text"
      },
      "source": [
        "<a href=\"https://colab.research.google.com/github/vatiza/Machine_Learning/blob/main/Blockchain_Basic.ipynb\" target=\"_parent\"><img src=\"https://colab.research.google.com/assets/colab-badge.svg\" alt=\"Open In Colab\"/></a>"
      ]
    },
    {
      "cell_type": "code",
      "execution_count": null,
      "metadata": {
        "colab": {
          "base_uri": "https://localhost:8080/"
        },
        "id": "KYmGGqTHMF30",
        "outputId": "116ec8c8-d3bd-4b19-a2db-6bb2e7302832"
      },
      "outputs": [
        {
          "output_type": "stream",
          "name": "stdout",
          "text": [
            "Is the blockchain valid? True\n",
            "Block: 0\n",
            "Timestamp: 2023-06-19 07:37:33.939666\n",
            "Data: Genesis Block\n",
            "Previous Hash: 0\n",
            "Hash: ab1638dfe8b3a7b9ecb13e8b8926a5d70dbadd037a770e3284149a5d1aa22cef\n",
            "\n",
            "Block: 1\n",
            "Timestamp: 2023-06-19 07:37:33.939780\n",
            "Data: Block 1 Data\n",
            "Previous Hash: ab1638dfe8b3a7b9ecb13e8b8926a5d70dbadd037a770e3284149a5d1aa22cef\n",
            "Hash: 1a182929a2f20d17085429d003fb7788443eb5cd73a3cfaeebf97034c283f63d\n",
            "\n",
            "Block: 2\n",
            "Timestamp: 2023-06-19 07:37:33.939894\n",
            "Data: Block 2 Data\n",
            "Previous Hash: 1a182929a2f20d17085429d003fb7788443eb5cd73a3cfaeebf97034c283f63d\n",
            "Hash: 99ac71d73593a1ffc456d9dc083b25f60a232ebc23488d47afd8f8d1b265fddc\n",
            "\n",
            "Block: 3\n",
            "Timestamp: 2023-06-19 07:37:33.939963\n",
            "Data: Block 3 Data\n",
            "Previous Hash: 99ac71d73593a1ffc456d9dc083b25f60a232ebc23488d47afd8f8d1b265fddc\n",
            "Hash: fc88ca78c6bcef73e05980a2b26ce181933a91973bf575664cb07a3cdf50e179\n",
            "\n"
          ]
        }
      ],
      "source": [
        " import hashlib\n",
        "import datetime\n",
        "\n",
        "class Block:\n",
        "    def __init__(self, index, timestamp, data, previous_hash):\n",
        "        self.index = index\n",
        "        self.timestamp = timestamp\n",
        "        self.data = data\n",
        "        self.previous_hash = previous_hash\n",
        "        self.hash = self.calculate_hash()\n",
        "\n",
        "    def calculate_hash(self):\n",
        "        data_string = str(self.index) + str(self.timestamp) + str(self.data) + str(self.previous_hash)\n",
        "        return hashlib.sha256(data_string.encode()).hexdigest()\n",
        "\n",
        "class Blockchain:\n",
        "    def __init__(self):\n",
        "        self.chain = [self.create_genesis_block()]\n",
        "\n",
        "    def create_genesis_block(self):\n",
        "        return Block(0, datetime.datetime.now(), \"Genesis Block\", \"0\")\n",
        "\n",
        "    def get_latest_block(self):\n",
        "        return self.chain[-1]\n",
        "\n",
        "    def add_block(self, new_block):\n",
        "        new_block.previous_hash = self.get_latest_block().hash\n",
        "        new_block.hash = new_block.calculate_hash()\n",
        "        self.chain.append(new_block)\n",
        "\n",
        "    def is_chain_valid(self):\n",
        "        for i in range(1, len(self.chain)):\n",
        "            current_block = self.chain[i]\n",
        "            previous_block = self.chain[i - 1]\n",
        "\n",
        "            if current_block.hash != current_block.calculate_hash():\n",
        "                return False\n",
        "\n",
        "            if current_block.previous_hash != previous_block.hash:\n",
        "                return False\n",
        "\n",
        "        return True\n",
        "\n",
        "# Create a blockchain instance\n",
        "my_blockchain = Blockchain()\n",
        "\n",
        "# Add some blocks to the blockchain\n",
        "my_blockchain.add_block(Block(1, datetime.datetime.now(), \"Block 1 Data\", \"\"))\n",
        "my_blockchain.add_block(Block(2, datetime.datetime.now(), \"Block 2 Data\", \"\"))\n",
        "my_blockchain.add_block(Block(3, datetime.datetime.now(), \"Block 3 Data\", \"\"))\n",
        "\n",
        "# Check if the blockchain is valid\n",
        "print(\"Is the blockchain valid?\", my_blockchain.is_chain_valid())\n",
        "\n",
        "# Print the blocks in the blockchain\n",
        "for block in my_blockchain.chain:\n",
        "    print(\"Block:\", block.index)\n",
        "    print(\"Timestamp:\", block.timestamp)\n",
        "    print(\"Data:\", block.data)\n",
        "    print(\"Previous Hash:\", block.previous_hash)\n",
        "    print(\"Hash:\", block.hash)\n",
        "    print()"
      ]
    },
    {
      "cell_type": "code",
      "source": [],
      "metadata": {
        "id": "sur4nlwyORuV"
      },
      "execution_count": null,
      "outputs": []
    }
  ]
}