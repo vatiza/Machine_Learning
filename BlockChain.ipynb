{
  "nbformat": 4,
  "nbformat_minor": 0,
  "metadata": {
    "colab": {
      "provenance": [],
      "authorship_tag": "ABX9TyNDBFKiINBBTPfPpwFfPRlW",
      "include_colab_link": true
    },
    "kernelspec": {
      "name": "python3",
      "display_name": "Python 3"
    },
    "language_info": {
      "name": "python"
    }
  },
  "cells": [
    {
      "cell_type": "markdown",
      "metadata": {
        "id": "view-in-github",
        "colab_type": "text"
      },
      "source": [
        "<a href=\"https://colab.research.google.com/github/vatiza/Machine_Learning/blob/main/BlockChain.ipynb\" target=\"_parent\"><img src=\"https://colab.research.google.com/assets/colab-badge.svg\" alt=\"Open In Colab\"/></a>"
      ]
    },
    {
      "cell_type": "markdown",
      "source": [
        "## **BlockChain** Is the blockchain valid? True or false\n",
        "\n"
      ],
      "metadata": {
        "id": "XCEXrUZTPOqQ"
      }
    },
    {
      "cell_type": "code",
      "execution_count": null,
      "metadata": {
        "colab": {
          "base_uri": "https://localhost:8080/"
        },
        "id": "FmWwq3AhOCIo",
        "outputId": "9e5e45e9-f944-4ce6-d8cc-9269a228539f"
      },
      "outputs": [
        {
          "output_type": "stream",
          "name": "stdout",
          "text": [
            "Is the blockchain valid? True\n",
            "Block: 0\n",
            "Timestamp: 2023-06-21 08:10:27.321822\n",
            "Data: Genesis Block\n",
            "Previous Hash: 0\n",
            "Hash: 96519a77c5296fa56d27614be92343434a98082032a3c624b14bf44f3f1f60d3\n",
            "\n",
            "Block: 1\n",
            "Timestamp: 2023-06-21 08:10:27.321947\n",
            "Data: Block 1 Data\n",
            "Previous Hash: 96519a77c5296fa56d27614be92343434a98082032a3c624b14bf44f3f1f60d3\n",
            "Hash: fbb51d02ec01d701820b311fe0b04e9bedb3880d2acad1ee034ab4e372feb90f\n",
            "\n",
            "Block: 2\n",
            "Timestamp: 2023-06-21 08:10:27.322035\n",
            "Data: Block 2 Data\n",
            "Previous Hash: fbb51d02ec01d701820b311fe0b04e9bedb3880d2acad1ee034ab4e372feb90f\n",
            "Hash: 4b396f25d934df0c6bdb73742e9b99c1f8ac10c3b4da22f2c7945938ffd01c1a\n",
            "\n",
            "Block: 3\n",
            "Timestamp: 2023-06-21 08:10:27.322147\n",
            "Data: Block 3 Data\n",
            "Previous Hash: 4b396f25d934df0c6bdb73742e9b99c1f8ac10c3b4da22f2c7945938ffd01c1a\n",
            "Hash: 77120eae7b4b606746ddb78c5473c2ab9948a05dbd069f09aa80a4b6fa574d9c\n",
            "\n"
          ]
        }
      ],
      "source": [
        "import hashlib\n",
        "import datetime\n",
        "\n",
        "class Block:\n",
        "    def __init__(self, index, timestamp, data, previous_hash):\n",
        "        self.index = index\n",
        "        self.timestamp = timestamp\n",
        "        self.data = data\n",
        "        self.previous_hash = previous_hash\n",
        "        self.hash = self.calculate_hash()\n",
        "\n",
        "    def calculate_hash(self):\n",
        "        data_string = str(self.index) + str(self.timestamp) + str(self.data) + str(self.previous_hash)\n",
        "        return hashlib.sha256(data_string.encode()).hexdigest()\n",
        "\n",
        "class Blockchain:\n",
        "    def __init__(self):\n",
        "        self.chain = [self.create_genesis_block()]\n",
        "\n",
        "    def create_genesis_block(self):\n",
        "        return Block(0, datetime.datetime.now(), \"Genesis Block\", \"0\")\n",
        "\n",
        "    def get_latest_block(self):\n",
        "        return self.chain[-1]\n",
        "\n",
        "    def add_block(self, new_block):\n",
        "        new_block.previous_hash = self.get_latest_block().hash\n",
        "        new_block.hash = new_block.calculate_hash()\n",
        "        self.chain.append(new_block)\n",
        "\n",
        "    def is_chain_valid(self):\n",
        "        for i in range(1, len(self.chain)):\n",
        "            current_block = self.chain[i]\n",
        "            previous_block = self.chain[i - 1]\n",
        "\n",
        "            if current_block.hash != current_block.calculate_hash():\n",
        "                return False\n",
        "\n",
        "            if current_block.previous_hash != previous_block.hash:\n",
        "                return False\n",
        "\n",
        "        return True\n",
        "\n",
        "# Create a blockchain instance\n",
        "my_blockchain = Blockchain()\n",
        "\n",
        "# Add some blocks to the blockchain\n",
        "my_blockchain.add_block(Block(1, datetime.datetime.now(), \"Block 1 Data\", \"\"))\n",
        "my_blockchain.add_block(Block(2, datetime.datetime.now(), \"Block 2 Data\", \"\"))\n",
        "my_blockchain.add_block(Block(3, datetime.datetime.now(), \"Block 3 Data\", \"\"))\n",
        "\n",
        "# Check if the blockchain is valid\n",
        "print(\"Is the blockchain valid?\", my_blockchain.is_chain_valid())\n",
        "\n",
        "# Print the blocks in the blockchain\n",
        "for block in my_blockchain.chain:\n",
        "    print(\"Block:\", block.index)\n",
        "    print(\"Timestamp:\", block.timestamp)\n",
        "    print(\"Data:\", block.data)\n",
        "    print(\"Previous Hash:\", block.previous_hash)\n",
        "    print(\"Hash:\", block.hash)\n",
        "    print()"
      ]
    },
    {
      "cell_type": "markdown",
      "source": [
        "## N number of img and create number of N blockchain"
      ],
      "metadata": {
        "id": "WWT0AM-yTZ2p"
      }
    },
    {
      "cell_type": "code",
      "source": [
        "import hashlib\n",
        "import datetime\n",
        "\n",
        "class Block:\n",
        "    def __init__(self, timestamp, data, previous_hash):\n",
        "        self.timestamp = timestamp\n",
        "        self.data = data\n",
        "        self.previous_hash = previous_hash\n",
        "        self.hash = self.generate_hash()\n",
        "\n",
        "    def generate_hash(self):\n",
        "        block_contents = str(self.timestamp) + str(self.data) + str(self.previous_hash)\n",
        "        block_hash = hashlib.sha256(block_contents.encode()).hexdigest()\n",
        "        return block_hash\n",
        "\n",
        "class Blockchain:\n",
        "    def __init__(self):\n",
        "        self.chain = []\n",
        "        self.create_genesis_block()\n",
        "\n",
        "    def create_genesis_block(self):\n",
        "        genesis_block = Block(datetime.datetime.now(), \"Genesis Block\", \"0\")\n",
        "        self.chain.append(genesis_block)\n",
        "\n",
        "    def add_block(self, data):\n",
        "        previous_block = self.chain[-1]\n",
        "        new_block = Block(datetime.datetime.now(), data, previous_block.hash)\n",
        "        self.chain.append(new_block)\n",
        "\n",
        "    def print_chain(self):\n",
        "        for block in self.chain:\n",
        "            print(\"Timestamp:\", block.timestamp)\n",
        "            print(\"Data:\", block.data)\n",
        "            print(\"Hash:\", block.hash)\n",
        "            print(\"Previous Hash:\", block.previous_hash)\n",
        "            print(\"-----------------------------\")\n",
        "#Input Number of Images\n",
        "n = int(input(\"Enter the number of images: \"))\n",
        "blockchain = Blockchain()\n",
        "\n",
        "for i in range(n):\n",
        "    data = \"Image \" + str(i+1)\n",
        "    blockchain.add_block(data)\n",
        "\n",
        "blockchain.print_chain()\n"
      ],
      "metadata": {
        "colab": {
          "base_uri": "https://localhost:8080/"
        },
        "id": "aTsB-nxnS3ta",
        "outputId": "9fbf3bad-2295-4023-c34e-3055798868bc"
      },
      "execution_count": null,
      "outputs": [
        {
          "output_type": "stream",
          "name": "stdout",
          "text": [
            "Enter the number of images: 6\n",
            "Timestamp: 2023-06-19 11:05:53.143975\n",
            "Data: Genesis Block\n",
            "Hash: 734ac64a230150ce4443a0fb4c610d2904656a8e1d9d4375d8e0b00c2cea5e28\n",
            "Previous Hash: 0\n",
            "-----------------------------\n",
            "Timestamp: 2023-06-19 11:05:53.144111\n",
            "Data: Image 1\n",
            "Hash: 9c90c900da740d0c50a61045fc7a0c2cc0755c17d2f22af8a7d7cf94fc16041f\n",
            "Previous Hash: 734ac64a230150ce4443a0fb4c610d2904656a8e1d9d4375d8e0b00c2cea5e28\n",
            "-----------------------------\n",
            "Timestamp: 2023-06-19 11:05:53.144150\n",
            "Data: Image 2\n",
            "Hash: a6e6ca07c9a0994c11455bb37cf1399c79a5ac422bb2a5bc88ff8011b52de028\n",
            "Previous Hash: 9c90c900da740d0c50a61045fc7a0c2cc0755c17d2f22af8a7d7cf94fc16041f\n",
            "-----------------------------\n",
            "Timestamp: 2023-06-19 11:05:53.144160\n",
            "Data: Image 3\n",
            "Hash: 0dc4b168e092c0e185306e40559804c4b140ba5a86cc85b5d0cfbe33539977a1\n",
            "Previous Hash: a6e6ca07c9a0994c11455bb37cf1399c79a5ac422bb2a5bc88ff8011b52de028\n",
            "-----------------------------\n",
            "Timestamp: 2023-06-19 11:05:53.144170\n",
            "Data: Image 4\n",
            "Hash: 333593dcae8534645225d9d03d7bfc70884f429b7191b32ee8d6446991237642\n",
            "Previous Hash: 0dc4b168e092c0e185306e40559804c4b140ba5a86cc85b5d0cfbe33539977a1\n",
            "-----------------------------\n",
            "Timestamp: 2023-06-19 11:05:53.144178\n",
            "Data: Image 5\n",
            "Hash: dbcf059c03695788275fcc192c91fc446d6ca4e8acfc4cf51ea23b7b65619489\n",
            "Previous Hash: 333593dcae8534645225d9d03d7bfc70884f429b7191b32ee8d6446991237642\n",
            "-----------------------------\n",
            "Timestamp: 2023-06-19 11:05:53.144186\n",
            "Data: Image 6\n",
            "Hash: 398e44a77406830a8a6a5322a66e011d1926b6d35f92e5fe542c67d84b25df4b\n",
            "Previous Hash: dbcf059c03695788275fcc192c91fc446d6ca4e8acfc4cf51ea23b7b65619489\n",
            "-----------------------------\n"
          ]
        }
      ]
    },
    {
      "cell_type": "code",
      "source": [
        "from google.colab import drive\n",
        "\n",
        "drive.mount('/content/gdrive/', force_remount=True)"
      ],
      "metadata": {
        "colab": {
          "base_uri": "https://localhost:8080/"
        },
        "id": "6uAJd9CuWsQl",
        "outputId": "80863bae-ed3e-4835-f2a5-b6a42035a184"
      },
      "execution_count": null,
      "outputs": [
        {
          "output_type": "stream",
          "name": "stdout",
          "text": [
            "Mounted at /content/gdrive/\n"
          ]
        }
      ]
    },
    {
      "cell_type": "code",
      "execution_count": null,
      "metadata": {
        "colab": {
          "base_uri": "https://localhost:8080/"
        },
        "outputId": "cdd50dc6-1dd0-45d7-a5c3-f08a621ff10c",
        "id": "FPPW1BxXYkwl"
      },
      "outputs": [
        {
          "output_type": "stream",
          "name": "stdout",
          "text": [
            "Is the blockchain valid? True\n",
            "Block: 0\n",
            "Timestamp: 2023-06-19 11:25:10.690658\n",
            "Data: Genesis Block\n",
            "Previous Hash: 0\n",
            "Hash: 8401776f6cf6226aea3d72c6e008a88f91f7e03159f25d17c923b66aac5561a1\n",
            "\n",
            "Block: 1\n",
            "Timestamp: 2023-06-19 11:25:10.690791\n",
            "Data: /content/gdrive/MyDrive/labimg/img1.png\n",
            "Previous Hash: 8401776f6cf6226aea3d72c6e008a88f91f7e03159f25d17c923b66aac5561a1\n",
            "Hash: 95fa7b4199fd9a451222e885af6f978e8134aaee72192220408e5cad479a6c18\n",
            "\n",
            "Block: 2\n",
            "Timestamp: 2023-06-19 11:25:10.690865\n",
            "Data: /content/gdrive/MyDrive/labimg/img2.png\n",
            "Previous Hash: 95fa7b4199fd9a451222e885af6f978e8134aaee72192220408e5cad479a6c18\n",
            "Hash: 7683a83fba6f787ce9f42425509f9a6c49ad73f84d99e537a789e7bff68f458d\n",
            "\n",
            "Block: 3\n",
            "Timestamp: 2023-06-19 11:25:10.690928\n",
            "Data: /content/gdrive/MyDrive/labimg/img3.png\n",
            "Previous Hash: 7683a83fba6f787ce9f42425509f9a6c49ad73f84d99e537a789e7bff68f458d\n",
            "Hash: 16bbfb4b86281458f80e6ca5b1d6251bcb60871d3e695573c0bec1a42a447a5e\n",
            "\n",
            "Block: 3\n",
            "Timestamp: 2023-06-19 11:25:10.690990\n",
            "Data: /content/gdrive/MyDrive/labimg/img4.png\n",
            "Previous Hash: 16bbfb4b86281458f80e6ca5b1d6251bcb60871d3e695573c0bec1a42a447a5e\n",
            "Hash: 1ca736f1f3aa72f0bf5b25361d17143a5c5de3a0f4d04ffff2350d7156d66f3a\n",
            "\n"
          ]
        }
      ],
      "source": [
        "import hashlib\n",
        "import datetime\n",
        "\n",
        "class Block:\n",
        "    def __init__(self, index, timestamp, data, previous_hash):\n",
        "        self.index = index\n",
        "        self.timestamp = timestamp\n",
        "        self.data = data\n",
        "        self.previous_hash = previous_hash\n",
        "        self.hash = self.calculate_hash()\n",
        "\n",
        "    def calculate_hash(self):\n",
        "        data_string = str(self.index) + str(self.timestamp) + str(self.data) + str(self.previous_hash)\n",
        "        return hashlib.sha256(data_string.encode()).hexdigest()\n",
        "\n",
        "class Blockchain:\n",
        "    def __init__(self):\n",
        "        self.chain = [self.create_genesis_block()]\n",
        "\n",
        "    def create_genesis_block(self):\n",
        "        return Block(0, datetime.datetime.now(), \"Genesis Block\", \"0\")\n",
        "\n",
        "    def get_latest_block(self):\n",
        "        return self.chain[-1]\n",
        "\n",
        "    def add_block(self, new_block):\n",
        "        new_block.previous_hash = self.get_latest_block().hash\n",
        "        new_block.hash = new_block.calculate_hash()\n",
        "        self.chain.append(new_block)\n",
        "\n",
        "    def is_chain_valid(self):\n",
        "        for i in range(1, len(self.chain)):\n",
        "            current_block = self.chain[i]\n",
        "            previous_block = self.chain[i - 1]\n",
        "\n",
        "            if current_block.hash != current_block.calculate_hash():\n",
        "                return False\n",
        "\n",
        "            if current_block.previous_hash != previous_block.hash:\n",
        "                return False\n",
        "\n",
        "        return True\n",
        "\n",
        "# Create a blockchain instance\n",
        "my_blockchain = Blockchain()\n",
        "\n",
        "# Add some blocks to the blockchain\n",
        "my_blockchain.add_block(Block(1, datetime.datetime.now(), \"/content/gdrive/MyDrive/labimg/img1.png\", \"\"))\n",
        "my_blockchain.add_block(Block(2, datetime.datetime.now(), \"/content/gdrive/MyDrive/labimg/img2.png\", \"\"))\n",
        "my_blockchain.add_block(Block(3, datetime.datetime.now(), \"/content/gdrive/MyDrive/labimg/img3.png\", \"\"))\n",
        "my_blockchain.add_block(Block(4, datetime.datetime.now(), \"/content/gdrive/MyDrive/labimg/img4.png\", \"\"))\n",
        "# Check if the blockchain is valid\n",
        "print(\"Is the blockchain valid?\", my_blockchain.is_chain_valid())\n",
        "\n",
        "# Print the blocks in the blockchain\n",
        "for block in my_blockchain.chain:\n",
        "    print(\"Block:\", block.index)\n",
        "    print(\"Timestamp:\", block.timestamp)\n",
        "    print(\"Data:\", block.data)\n",
        "    print(\"Previous Hash:\", block.previous_hash)\n",
        "    print(\"Hash:\", block.hash)\n",
        "    print()"
      ]
    },
    {
      "cell_type": "code",
      "source": [],
      "metadata": {
        "id": "1za2IA9wbI3K"
      },
      "execution_count": null,
      "outputs": []
    },
    {
      "cell_type": "code",
      "source": [
        "import hashlib\n",
        "import datetime\n",
        "\n",
        "class Block:\n",
        "    def __init__(self, index, timestamp, data, previous_hash):\n",
        "        self.index = index\n",
        "        self.timestamp = timestamp\n",
        "        self.data = data\n",
        "        self.previous_hash = previous_hash\n",
        "        self.hash = self.calculate_hash()\n",
        "\n",
        "    def calculate_hash(self):\n",
        "        data_string = str(self.index) + str(self.timestamp) + str(self.data) + str(self.previous_hash)\n",
        "        return hashlib.sha256(data_string.encode()).hexdigest()\n",
        "\n",
        "class Blockchain:\n",
        "    def __init__(self):\n",
        "        self.chain = [self.create_genesis_block()]\n",
        "\n",
        "    def create_genesis_block(self):\n",
        "        return Block(0, datetime.datetime.now(), \"Genesis Block\", \"0\")\n",
        "\n",
        "    def get_latest_block(self):\n",
        "        return self.chain[-1]\n",
        "\n",
        "    def add_block(self, new_block):\n",
        "        new_block.previous_hash = self.get_latest_block().hash\n",
        "        new_block.hash = new_block.calculate_hash()\n",
        "        self.chain.append(new_block)\n",
        "\n",
        "    def is_chain_valid(self):\n",
        "        for i in range(1, len(self.chain)):\n",
        "            current_block = self.chain[i]\n",
        "            previous_block = self.chain[i - 1]\n",
        "\n",
        "            if current_block.hash != current_block.calculate_hash():\n",
        "                return False\n",
        "\n",
        "            if current_block.previous_hash != previous_block.hash:\n",
        "                return False\n",
        "\n",
        "        return True\n",
        "\n",
        "# Create a blockchain instance\n",
        "my_blockchain = Blockchain()\n",
        "\n",
        "# Add some blocks to the blockchain\n",
        "my_blockchain.add_block(Block(\"/content/gdrive/MyDrive/labimg/img1.png\",\"\"))\n",
        "\n",
        "# Check if the blockchain is valid\n",
        "print(\"Is the blockchain valid?\", my_blockchain.is_chain_valid())\n",
        "\n",
        "# Print the blocks in the blockchain\n",
        "for block in my_blockchain.chain:\n",
        "    print(\"Block:\", block.index)\n",
        "    print(\"Timestamp:\", block.timestamp)\n",
        "    print(\"Data:\", block.data)\n",
        "    print(\"Previous Hash:\", block.previous_hash)\n",
        "    print(\"Hash:\", block.hash)\n",
        "    print()"
      ],
      "metadata": {
        "colab": {
          "base_uri": "https://localhost:8080/",
          "height": 252
        },
        "id": "pDhF8qwKZ2-Z",
        "outputId": "ade5e019-f551-42f8-caf1-3598fdd02914"
      },
      "execution_count": null,
      "outputs": [
        {
          "output_type": "error",
          "ename": "TypeError",
          "evalue": "ignored",
          "traceback": [
            "\u001b[0;31m---------------------------------------------------------------------------\u001b[0m",
            "\u001b[0;31mTypeError\u001b[0m                                 Traceback (most recent call last)",
            "\u001b[0;32m<ipython-input-24-f38e80855caf>\u001b[0m in \u001b[0;36m<cell line: 48>\u001b[0;34m()\u001b[0m\n\u001b[1;32m     46\u001b[0m \u001b[0;34m\u001b[0m\u001b[0m\n\u001b[1;32m     47\u001b[0m \u001b[0;31m# Add some blocks to the blockchain\u001b[0m\u001b[0;34m\u001b[0m\u001b[0;34m\u001b[0m\u001b[0m\n\u001b[0;32m---> 48\u001b[0;31m \u001b[0mmy_blockchain\u001b[0m\u001b[0;34m.\u001b[0m\u001b[0madd_block\u001b[0m\u001b[0;34m(\u001b[0m\u001b[0mBlock\u001b[0m\u001b[0;34m(\u001b[0m\u001b[0;34m\"/content/gdrive/MyDrive/labimg/img1.png\"\u001b[0m\u001b[0;34m,\u001b[0m\u001b[0;34m\"\"\u001b[0m\u001b[0;34m)\u001b[0m\u001b[0;34m)\u001b[0m\u001b[0;34m\u001b[0m\u001b[0;34m\u001b[0m\u001b[0m\n\u001b[0m\u001b[1;32m     49\u001b[0m \u001b[0;34m\u001b[0m\u001b[0m\n\u001b[1;32m     50\u001b[0m \u001b[0;31m# Check if the blockchain is valid\u001b[0m\u001b[0;34m\u001b[0m\u001b[0;34m\u001b[0m\u001b[0m\n",
            "\u001b[0;31mTypeError\u001b[0m: Block.__init__() missing 2 required positional arguments: 'data' and 'previous_hash'"
          ]
        }
      ]
    },
    {
      "cell_type": "code",
      "source": [
        "display img1.png"
      ],
      "metadata": {
        "colab": {
          "base_uri": "https://localhost:8080/",
          "height": 130
        },
        "id": "X58wYZ9Yal-4",
        "outputId": "0a591af0-ac50-41ba-9963-b51e42b4e1f7"
      },
      "execution_count": null,
      "outputs": [
        {
          "output_type": "error",
          "ename": "SyntaxError",
          "evalue": "ignored",
          "traceback": [
            "\u001b[0;36m  File \u001b[0;32m\"<ipython-input-28-5a1562a2024d>\"\u001b[0;36m, line \u001b[0;32m1\u001b[0m\n\u001b[0;31m    display img1.png\u001b[0m\n\u001b[0m            ^\u001b[0m\n\u001b[0;31mSyntaxError\u001b[0m\u001b[0;31m:\u001b[0m invalid syntax\n"
          ]
        }
      ]
    },
    {
      "cell_type": "code",
      "source": [
        "import hashlib\n",
        "import datetime\n",
        "\n",
        "class Block:\n",
        "    def __init__(self, index, timestamp, data, previous_hash):\n",
        "        self.index = index\n",
        "        self.timestamp = timestamp\n",
        "        self.data = data\n",
        "        self.previous_hash = previous_hash\n",
        "        self.hash = self.calculate_hash()\n",
        "\n",
        "    def calculate_hash(self):\n",
        "        data_string = str(self.index) + str(self.timestamp) + str(self.data) + str(self.previous_hash)\n",
        "        return hashlib.sha256(data_string.encode()).hexdigest()\n",
        "\n",
        "class Blockchain:\n",
        "    def __init__(self):\n",
        "        self.chain = [self.create_genesis_block()]\n",
        "\n",
        "    def create_genesis_block(self):\n",
        "        return Block(0, datetime.datetime.now(), \"Genesis Block\", \"0\")\n",
        "\n",
        "    def get_latest_block(self):\n",
        "        return self.chain[-1]\n",
        "\n",
        "    def add_block(self, new_block):\n",
        "        new_block.previous_hash = self.get_latest_block().hash\n",
        "        new_block.hash = new_block.calculate_hash()\n",
        "        self.chain.append(new_block)\n",
        "\n",
        "    def is_chain_valid(self):\n",
        "        for i in range(1, len(self.chain)):\n",
        "            current_block = self.chain[i]\n",
        "            previous_block = self.chain[i - 1]\n",
        "\n",
        "            if current_block.hash != current_block.calculate_hash():\n",
        "                return False\n",
        "\n",
        "            if current_block.previous_hash != previous_block.hash:\n",
        "                return False\n",
        "\n",
        "        return True\n",
        "\n",
        "my_blockchain = Blockchain()\n",
        "\n",
        "my_blockchain.add_block(Block(1, datetime.datetime.now(), \"/content/gdrive/MyDrive/labimg/img1.png\", \"\"))\n",
        "my_blockchain.add_block(Block(2, datetime.datetime.now(), \"/content/gdrive/MyDrive/labimg/img2.png\", \"\"))\n",
        "my_blockchain.add_block(Block(3, datetime.datetime.now(), \"/content/gdrive/MyDrive/labimg/img3.png\", \"\"))\n",
        "my_blockchain.add_block(Block(4, datetime.datetime.now(), \"/content/gdrive/MyDrive/labimg/img4.png\", \"\"))\n",
        "print(\"Is the blockchain valid?\", my_blockchain.is_chain_valid())\n",
        "\n",
        "\n",
        "for block in my_blockchain.chain:\n",
        "    print(\"Block:\", block.index)\n",
        "    print(\"Timestamp:\", block.timestamp)\n",
        "    print(\"Data:\", block.data)\n",
        "    print(\"Previous Hash:\", block.previous_hash)\n",
        "    print(\"Hash:\", block.hash)\n",
        "    print()"
      ],
      "metadata": {
        "colab": {
          "base_uri": "https://localhost:8080/"
        },
        "id": "qkysMhsGbKxx",
        "outputId": "2512b566-86f6-4656-e9e9-7a0fe5fe82a9"
      },
      "execution_count": null,
      "outputs": [
        {
          "output_type": "stream",
          "name": "stdout",
          "text": [
            "Is the blockchain valid? True\n",
            "Block: 0\n",
            "Timestamp: 2023-06-21 08:12:41.239510\n",
            "Data: Genesis Block\n",
            "Previous Hash: 0\n",
            "Hash: 42729d3319ef73650164ae9142a2a222190cc0e1574db022b77ce4efaaefb7d7\n",
            "\n",
            "Block: 1\n",
            "Timestamp: 2023-06-21 08:12:41.239677\n",
            "Data: /content/gdrive/MyDrive/labimg/img1.png\n",
            "Previous Hash: 42729d3319ef73650164ae9142a2a222190cc0e1574db022b77ce4efaaefb7d7\n",
            "Hash: bb8388d24a1b67ecd341b70c25858b187f8f1d6bc8a041c91ce5c52b71810509\n",
            "\n",
            "Block: 2\n",
            "Timestamp: 2023-06-21 08:12:41.239776\n",
            "Data: /content/gdrive/MyDrive/labimg/img2.png\n",
            "Previous Hash: bb8388d24a1b67ecd341b70c25858b187f8f1d6bc8a041c91ce5c52b71810509\n",
            "Hash: 2b30cec7a7f21e1413bad311130eea96a8c8aad61906951e166c067e4b302a55\n",
            "\n",
            "Block: 3\n",
            "Timestamp: 2023-06-21 08:12:41.239857\n",
            "Data: /content/gdrive/MyDrive/labimg/img3.png\n",
            "Previous Hash: 2b30cec7a7f21e1413bad311130eea96a8c8aad61906951e166c067e4b302a55\n",
            "Hash: 409b5980581da3cf7d8f6474adca40b0c2f7a76437109213810d0f08022d321a\n",
            "\n",
            "Block: 4\n",
            "Timestamp: 2023-06-21 08:12:41.239926\n",
            "Data: /content/gdrive/MyDrive/labimg/img4.png\n",
            "Previous Hash: 409b5980581da3cf7d8f6474adca40b0c2f7a76437109213810d0f08022d321a\n",
            "Hash: 1e1cb57f0ba81f69154260ae05574f0affa6eb2a828404bd53ffbd0014a841b0\n",
            "\n"
          ]
        }
      ]
    },
    {
      "cell_type": "code",
      "source": [
        "cat california_housing_test.csv"
      ],
      "metadata": {
        "colab": {
          "base_uri": "https://localhost:8080/"
        },
        "id": "PbcvyldMUq64",
        "outputId": "b86e4ccd-979e-4104-d751-04bf7d274b7d"
      },
      "execution_count": null,
      "outputs": [
        {
          "output_type": "stream",
          "name": "stdout",
          "text": [
            "cat: california_housing_test.csv: No such file or directory\n"
          ]
        }
      ]
    },
    {
      "cell_type": "code",
      "source": [
        "from google.colab import drive\n",
        "\n",
        "drive.mount('/content/gdrive/', force_remount=True)"
      ],
      "metadata": {
        "colab": {
          "base_uri": "https://localhost:8080/"
        },
        "outputId": "217bf295-7bd0-422b-a913-ae74676629f0",
        "id": "HwxPMnOoVnJr"
      },
      "execution_count": null,
      "outputs": [
        {
          "output_type": "stream",
          "name": "stdout",
          "text": [
            "Mounted at /content/gdrive/\n"
          ]
        }
      ]
    },
    {
      "cell_type": "code",
      "source": [
        "from google.colab import drive\n",
        "drive.mount('/content/gdrive/')"
      ],
      "metadata": {
        "colab": {
          "base_uri": "https://localhost:8080/"
        },
        "id": "6lWCo_o-WGYy",
        "outputId": "c54ebe41-c426-4b8e-c03b-e4266e69efce"
      },
      "execution_count": null,
      "outputs": [
        {
          "output_type": "stream",
          "name": "stdout",
          "text": [
            "Drive already mounted at /content/gdrive/; to attempt to forcibly remount, call drive.mount(\"/content/gdrive/\", force_remount=True).\n"
          ]
        }
      ]
    },
    {
      "cell_type": "code",
      "source": [
        "import sys\n",
        "sys.path.append('/content/gdrive/')"
      ],
      "metadata": {
        "id": "ppXbVYsNWl8f"
      },
      "execution_count": null,
      "outputs": []
    },
    {
      "cell_type": "code",
      "source": [
        "ls"
      ],
      "metadata": {
        "colab": {
          "base_uri": "https://localhost:8080/"
        },
        "id": "TgfKb1cyWqEf",
        "outputId": "c742bc33-cee1-4ea4-cbb4-0f99099d5297"
      },
      "execution_count": null,
      "outputs": [
        {
          "output_type": "stream",
          "name": "stdout",
          "text": [
            "\u001b[0m\u001b[01;34mcolab\u001b[0m/\n"
          ]
        }
      ]
    }
  ]
}