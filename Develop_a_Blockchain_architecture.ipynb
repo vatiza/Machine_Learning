{
  "nbformat": 4,
  "nbformat_minor": 0,
  "metadata": {
    "colab": {
      "provenance": [],
      "authorship_tag": "ABX9TyNmu6dTDaJ/8QczbP13RAZH",
      "include_colab_link": true
    },
    "kernelspec": {
      "name": "python3",
      "display_name": "Python 3"
    },
    "language_info": {
      "name": "python"
    }
  },
  "cells": [
    {
      "cell_type": "markdown",
      "metadata": {
        "id": "view-in-github",
        "colab_type": "text"
      },
      "source": [
        "<a href=\"https://colab.research.google.com/github/vatiza/Machine_Learning/blob/main/Develop_a_Blockchain_architecture.ipynb\" target=\"_parent\"><img src=\"https://colab.research.google.com/assets/colab-badge.svg\" alt=\"Open In Colab\"/></a>"
      ]
    },
    {
      "cell_type": "code",
      "execution_count": null,
      "metadata": {
        "colab": {
          "base_uri": "https://localhost:8080/",
          "height": 713
        },
        "id": "-fwOgn5i4kzR",
        "outputId": "2b768239-d8f8-4dab-e924-4a2e73b181dd"
      },
      "outputs": [
        {
          "output_type": "stream",
          "name": "stdout",
          "text": [
            "Looking in indexes: https://pypi.org/simple, https://us-python.pkg.dev/colab-wheels/public/simple/\n",
            "Collecting Flask==2.0.1\n",
            "  Downloading Flask-2.0.1-py3-none-any.whl (94 kB)\n",
            "\u001b[2K     \u001b[90m━━━━━━━━━━━━━━━━━━━━━━━━━━━━━━━━━━━━━━━━\u001b[0m \u001b[32m94.8/94.8 kB\u001b[0m \u001b[31m2.6 MB/s\u001b[0m eta \u001b[36m0:00:00\u001b[0m\n",
            "\u001b[?25hRequirement already satisfied: Werkzeug>=2.0 in /usr/local/lib/python3.10/dist-packages (from Flask==2.0.1) (2.3.6)\n",
            "Requirement already satisfied: Jinja2>=3.0 in /usr/local/lib/python3.10/dist-packages (from Flask==2.0.1) (3.1.2)\n",
            "Requirement already satisfied: itsdangerous>=2.0 in /usr/local/lib/python3.10/dist-packages (from Flask==2.0.1) (2.1.2)\n",
            "Requirement already satisfied: click>=7.1.2 in /usr/local/lib/python3.10/dist-packages (from Flask==2.0.1) (8.1.3)\n",
            "Requirement already satisfied: MarkupSafe>=2.0 in /usr/local/lib/python3.10/dist-packages (from Jinja2>=3.0->Flask==2.0.1) (2.1.3)\n",
            "Installing collected packages: Flask\n",
            "  Attempting uninstall: Flask\n",
            "    Found existing installation: Flask 2.2.5\n",
            "    Uninstalling Flask-2.2.5:\n",
            "      Successfully uninstalled Flask-2.2.5\n",
            "Successfully installed Flask-2.0.1\n",
            "Looking in indexes: https://pypi.org/simple, https://us-python.pkg.dev/colab-wheels/public/simple/\n",
            "Collecting Pillow==8.3.1\n",
            "  Downloading Pillow-8.3.1.tar.gz (48.7 MB)\n",
            "\u001b[2K     \u001b[90m━━━━━━━━━━━━━━━━━━━━━━━━━━━━━━━━━━━━━━━━\u001b[0m \u001b[32m48.7/48.7 MB\u001b[0m \u001b[31m11.9 MB/s\u001b[0m eta \u001b[36m0:00:00\u001b[0m\n",
            "\u001b[?25h  Preparing metadata (setup.py) ... \u001b[?25l\u001b[?25hdone\n",
            "Building wheels for collected packages: Pillow\n",
            "  Building wheel for Pillow (setup.py) ... \u001b[?25l\u001b[?25hdone\n",
            "  Created wheel for Pillow: filename=Pillow-8.3.1-cp310-cp310-linux_x86_64.whl size=1335751 sha256=004fc3ee1f93b0c4e1c91150370f280b2ffab29c63ab869da46e036dd3b87cae\n",
            "  Stored in directory: /root/.cache/pip/wheels/cd/7a/8b/74d32af196cbd3642790ed3a7d2c19c3afd665312194503334\n",
            "Successfully built Pillow\n",
            "Installing collected packages: Pillow\n",
            "  Attempting uninstall: Pillow\n",
            "    Found existing installation: Pillow 8.4.0\n",
            "    Uninstalling Pillow-8.4.0:\n",
            "      Successfully uninstalled Pillow-8.4.0\n",
            "\u001b[31mERROR: pip's dependency resolver does not currently take into account all the packages that are installed. This behaviour is the source of the following dependency conflicts.\n",
            "imageio 2.25.1 requires pillow>=8.3.2, but you have pillow 8.3.1 which is incompatible.\n",
            "torchvision 0.15.2+cu118 requires pillow!=8.3.*,>=5.3.0, but you have pillow 8.3.1 which is incompatible.\u001b[0m\u001b[31m\n",
            "\u001b[0mSuccessfully installed Pillow-8.3.1\n"
          ]
        },
        {
          "output_type": "display_data",
          "data": {
            "application/vnd.colab-display-data+json": {
              "pip_warning": {
                "packages": [
                  "PIL"
                ]
              }
            }
          },
          "metadata": {}
        }
      ],
      "source": [
        "!pip install Flask==2.0.1\n",
        "!pip install Pillow==8.3.1"
      ]
    },
    {
      "cell_type": "code",
      "source": [
        "from hashlib import sha256\n",
        "import json\n",
        "from time import time\n",
        "from uuid import uuid4\n",
        "from flask import Flask, jsonify, request\n",
        "from PIL import Image"
      ],
      "metadata": {
        "id": "T1E3Vpuk5l4N"
      },
      "execution_count": null,
      "outputs": []
    },
    {
      "cell_type": "code",
      "source": [
        "class Block:\n",
        "    def __init__(self, index, timestamp, image_path, previous_hash=None):\n",
        "        self.index = index\n",
        "        self.timestamp = timestamp\n",
        "        self.image_path = image_path\n",
        "        self.previous_hash = previous_hash or \"\"\n",
        "        self.hash = self.calculate_hash()\n",
        "\n",
        "    def calculate_hash(self):\n",
        "        sha = sha256()\n",
        "        sha.update(str(self.index).encode(\"utf-8\"))\n",
        "        sha.update(str(self.timestamp).encode(\"utf-8\"))\n",
        "        sha.update(str(self.image_path).encode(\"utf-8\"))\n",
        "        sha.update(str(self.previous_hash).encode(\"utf-8\"))\n",
        "        return sha.hexdigest()"
      ],
      "metadata": {
        "id": "9prfrnU85xUM"
      },
      "execution_count": null,
      "outputs": []
    },
    {
      "cell_type": "code",
      "source": [
        "class Blockchain:\n",
        "    def __init__(self):\n",
        "        self.chain = [self.create_genesis_block()]\n",
        "\n",
        "    def create_genesis_block(self):\n",
        "        return Block(0, time(), \"genesis block\", \"0\")\n",
        "\n",
        "    def add_block(self, image_path):\n",
        "        index = len(self.chain)\n",
        "        previous_hash = self.chain[-1].hash if len(self.chain) > 0 else None\n",
        "        block = Block(index, time(), image_path, previous_hash)\n",
        "        self.chain.append(block)\n",
        "\n",
        "    def get_chain(self):\n",
        "        return self.chain"
      ],
      "metadata": {
        "id": "85rJbliW509a"
      },
      "execution_count": null,
      "outputs": []
    },
    {
      "cell_type": "code",
      "source": [
        "app = Flask(__name__)\n",
        "node_identifier = str(uuid4()).replace(\"-\", \"\")\n",
        "blockchain = Blockchain()\n",
        "\n",
        "@app.route(\"/upload-image\", methods=[\"POST\"])\n",
        "def upload_image():\n",
        "    if \"image\" not in request.files:\n",
        "        return jsonify({\"error\": \"No image provided\"}), 400\n",
        "\n",
        "    image = request.files[\"image\"]\n",
        "    image_name = str(uuid4()) + \".jpg\"\n",
        "    image.save(image_name)\n",
        "\n",
        "    blockchain.add_block(image_name)\n",
        "\n",
        "    return jsonify({\"message\": \"Image uploaded successfully\"}), 201\n",
        "\n",
        "@app.route(\"/view-blockchain\", methods=[\"GET\"])\n",
        "def view_blockchain():\n",
        "    chain_data = []\n",
        "    for block in blockchain.get_chain():\n",
        "        chain_data.append({\n",
        "            \"index\": block.index,\n",
        "            \"timestamp\": block.timestamp,\n",
        "            \"image_path\": block.image_path,\n",
        "            \"hash\": block.hash,\n",
        "            \"previous_hash\": block.previous_hash\n",
        "        })\n",
        "\n",
        "    return jsonify({\"chain\": chain_data}), 200"
      ],
      "metadata": {
        "id": "ZewDNVDA55Fi"
      },
      "execution_count": null,
      "outputs": []
    },
    {
      "cell_type": "code",
      "source": [
        "if __name__ == \"__main__\":\n",
        "    app.run(host=\"0.0.0.0\", port=5000)"
      ],
      "metadata": {
        "id": "-KEJYI5G59sT",
        "outputId": "25b273c3-c482-49c1-bc83-60fb31e167d0",
        "colab": {
          "base_uri": "https://localhost:8080/"
        }
      },
      "execution_count": null,
      "outputs": [
        {
          "metadata": {
            "tags": null
          },
          "name": "stdout",
          "output_type": "stream",
          "text": [
            " * Serving Flask app '__main__' (lazy loading)\n",
            " * Environment: production\n",
            "\u001b[31m   WARNING: This is a development server. Do not use it in a production deployment.\u001b[0m\n",
            "\u001b[2m   Use a production WSGI server instead.\u001b[0m\n",
            " * Debug mode: off\n"
          ]
        },
        {
          "metadata": {
            "tags": null
          },
          "name": "stderr",
          "output_type": "stream",
          "text": [
            "INFO:werkzeug:\u001b[31m\u001b[1mWARNING: This is a development server. Do not use it in a production deployment. Use a production WSGI server instead.\u001b[0m\n",
            " * Running on all addresses (0.0.0.0)\n",
            " * Running on http://127.0.0.1:5000\n",
            " * Running on http://172.28.0.12:5000\n",
            "INFO:werkzeug:\u001b[33mPress CTRL+C to quit\u001b[0m\n"
          ]
        }
      ]
    },
    {
      "cell_type": "markdown",
      "source": [
        "#All sell code"
      ],
      "metadata": {
        "id": "H-kmyUEK7DfT"
      }
    },
    {
      "cell_type": "code",
      "source": [
        "from hashlib import sha256\n",
        "import json\n",
        "from time import time\n",
        "from uuid import uuid4\n",
        "from flask import Flask, jsonify, request\n",
        "from PIL import Image\n",
        "class Block:\n",
        "    def __init__(self, index, timestamp, image_path, previous_hash=None):\n",
        "        self.index = index\n",
        "        self.timestamp = timestamp\n",
        "        self.image_path = image_path\n",
        "        self.previous_hash = previous_hash or \"\"\n",
        "        self.hash = self.calculate_hash()\n",
        "\n",
        "    def calculate_hash(self):\n",
        "        sha = sha256()\n",
        "        sha.update(str(self.index).encode(\"utf-8\"))\n",
        "        sha.update(str(self.timestamp).encode(\"utf-8\"))\n",
        "        sha.update(str(self.image_path).encode(\"utf-8\"))\n",
        "        sha.update(str(self.previous_hash).encode(\"utf-8\"))\n",
        "        return sha.hexdigest()\n",
        "class Blockchain:\n",
        "    def __init__(self):\n",
        "        self.chain = [self.create_genesis_block()]\n",
        "\n",
        "    def create_genesis_block(self):\n",
        "        return Block(0, time(), \"genesis block\", \"0\")\n",
        "\n",
        "    def add_block(self, image_path):\n",
        "        index = len(self.chain)\n",
        "        previous_hash = self.chain[-1].hash if len(self.chain) > 0 else None\n",
        "        block = Block(index, time(), image_path, previous_hash)\n",
        "        self.chain.append(block)\n",
        "\n",
        "    def get_chain(self):\n",
        "        return self.chain\n",
        "app = Flask(__name__)\n",
        "node_identifier = str(uuid4()).replace(\"-\", \"\")\n",
        "blockchain = Blockchain()\n",
        "\n",
        "@app.route(\"/upload-image\", methods=[\"POST\"])\n",
        "def upload_image():\n",
        "    if \"image\" not in request.files:\n",
        "        return jsonify({\"error\": \"No image provided\"}), 400\n",
        "\n",
        "    image = request.files[\"image\"]\n",
        "    image_name = str(uuid4()) + \".jpg\"\n",
        "    image.save(image_name)\n",
        "\n",
        "    blockchain.add_block(image_name)\n",
        "\n",
        "    return jsonify({\"message\": \"Image uploaded successfully\"}), 201\n",
        "\n",
        "@app.route(\"/view-blockchain\", methods=[\"GET\"])\n",
        "def view_blockchain():\n",
        "    chain_data = []\n",
        "    for block in blockchain.get_chain():\n",
        "        chain_data.append({\n",
        "            \"index\": block.index,\n",
        "            \"timestamp\": block.timestamp,\n",
        "            \"image_path\": block.image_path,\n",
        "            \"hash\": block.hash,\n",
        "            \"previous_hash\": block.previous_hash\n",
        "        })\n",
        "\n",
        "    return jsonify({\"chain\": chain_data}), 200\n",
        "if __name__ == \"__main__\":\n",
        "    app.run(host=\"0.0.0.0\", port=5000)"
      ],
      "metadata": {
        "colab": {
          "base_uri": "https://localhost:8080/"
        },
        "id": "YDEN-yjR7BcO",
        "outputId": "c17bcc47-ef10-4fd1-db29-0098782bc703"
      },
      "execution_count": null,
      "outputs": [
        {
          "output_type": "stream",
          "name": "stdout",
          "text": [
            " * Serving Flask app '__main__' (lazy loading)\n",
            " * Environment: production\n",
            "\u001b[31m   WARNING: This is a development server. Do not use it in a production deployment.\u001b[0m\n",
            "\u001b[2m   Use a production WSGI server instead.\u001b[0m\n",
            " * Debug mode: off\n"
          ]
        },
        {
          "output_type": "stream",
          "name": "stderr",
          "text": [
            "INFO:werkzeug:\u001b[31m\u001b[1mWARNING: This is a development server. Do not use it in a production deployment. Use a production WSGI server instead.\u001b[0m\n",
            " * Running on all addresses (0.0.0.0)\n",
            " * Running on http://127.0.0.1:5000\n",
            " * Running on http://172.28.0.12:5000\n",
            "INFO:werkzeug:\u001b[33mPress CTRL+C to quit\u001b[0m\n"
          ]
        }
      ]
    }
  ]
}